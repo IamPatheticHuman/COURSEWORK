{
 "cells": [
  {
   "cell_type": "markdown",
   "id": "ecbf0d65",
   "metadata": {
    "papermill": {
     "duration": 0.014904,
     "end_time": "2023-07-29T16:56:09.641507",
     "exception": false,
     "start_time": "2023-07-29T16:56:09.626603",
     "status": "completed"
    },
    "tags": []
   },
   "source": [
    "Туризм - важнейшая часть мировой экономики, приносящая значительные доходы и создающая возможности для трудоустройства. В частности, за последние годы значительно вырос международный туризм, и сейчас по всему миру путешествует больше людей, чем когда-либо прежде. Воздушный транспорт играет важнейшую роль в обеспечении этого роста, предоставляя туристам быстрый и эффективный вид транспорта. Однако безопасность - это важнейшая проблема, которую нельзя игнорировать, и авиационная отрасль стремится поддерживать баланс между растущим числом пассажиров и обеспечением их безопасности."
   ]
  },
  {
   "cell_type": "markdown",
   "id": "12013abc",
   "metadata": {
    "papermill": {
     "duration": 0.012941,
     "end_time": "2023-07-29T16:56:09.667968",
     "exception": false,
     "start_time": "2023-07-29T16:56:09.655027",
     "status": "completed"
    },
    "tags": []
   },
   "source": [
    "\n",
    "# Очистка и подготовка данных"
   ]
  },
  {
   "cell_type": "code",
   "execution_count": null,
   "id": "e21a5502",
   "metadata": {
    "_cell_guid": "b1076dfc-b9ad-4769-8c92-a6c4dae69d19",
    "_kg_hide-input": true,
    "_kg_hide-output": false,
    "_uuid": "8f2839f25d086af736a60e9eeb907d3b93b6e0e5",
    "execution": {
     "iopub.execute_input": "2023-07-29T16:56:09.698118Z",
     "iopub.status.busy": "2023-07-29T16:56:09.697675Z",
     "iopub.status.idle": "2023-07-29T16:56:13.074622Z",
     "shell.execute_reply": "2023-07-29T16:56:13.073233Z"
    },
    "papermill": {
     "duration": 3.397834,
     "end_time": "2023-07-29T16:56:13.079097",
     "exception": false,
     "start_time": "2023-07-29T16:56:09.681263",
     "status": "completed"
    },
    "tags": []
   },
   "outputs": [],
   "source": [
    "import numpy as np\n",
    "import pandas as pd\n",
    "import matplotlib.pyplot as plt\n",
    "import seaborn as sns\n",
    "import plotly.express as px\n",
    "\n",
    "from IPython.core.display import HTML\n",
    "\n",
    "%matplotlib inline\n",
    "sns.set_style('darkgrid')\n",
    "plt.rcParams['font.size'] = 14\n",
    "plt.rcParams['figure.figsize'] = (17, 5)\n",
    "plt.rcParams['figure.facecolor'] = '#00000000'\n",
    "\n",
    "import os\n",
    "for dirname, _, filenames in os.walk('/kaggle/input'):\n",
    "    for filename in filenames:\n",
    "        print(os.path.join(dirname, filename))\n",
    "\n",
    "pd.set_option('display.max_rows', None)"
   ]
  },
  {
   "cell_type": "code",
   "execution_count": null,
   "id": "62dca684",
   "metadata": {
    "_kg_hide-input": true,
    "execution": {
     "iopub.execute_input": "2023-07-29T16:56:13.108690Z",
     "iopub.status.busy": "2023-07-29T16:56:13.107850Z",
     "iopub.status.idle": "2023-07-29T16:56:13.178466Z",
     "shell.execute_reply": "2023-07-29T16:56:13.177156Z"
    },
    "papermill": {
     "duration": 0.089014,
     "end_time": "2023-07-29T16:56:13.181828",
     "exception": false,
     "start_time": "2023-07-29T16:56:13.092814",
     "status": "completed"
    },
    "tags": []
   },
   "outputs": [],
   "source": [
    "import pandas as pd\n",
    "\n",
    "df1 = pd.read_csv('air-passengers-carried.csv')\n",
    "df2 = pd.read_csv('air-passengers-per-fatality.csv')\n",
    "df3 = pd.read_csv('fatal-airliner-accidents-hijacking-incidents.csv')\n",
    "df4 = pd.read_csv('fatal-airliner-accidents-per-million-flights.csv')\n",
    "df5 = pd.read_csv('global-fatalities-from-aviation-accidents-and-hijackings.csv')\n",
    "df6 = pd.read_csv('international-tourist-arrivals-by-world-region.csv')\n",
    "df7 = pd.read_csv('international-tourist-arrivals.csv')\n"
   ]
  },
  {
   "cell_type": "code",
   "execution_count": null,
   "id": "8052a952",
   "metadata": {
    "_kg_hide-input": true,
    "execution": {
     "iopub.execute_input": "2023-07-29T16:56:13.212690Z",
     "iopub.status.busy": "2023-07-29T16:56:13.211788Z",
     "iopub.status.idle": "2023-07-29T16:56:13.296315Z",
     "shell.execute_reply": "2023-07-29T16:56:13.295303Z"
    },
    "papermill": {
     "duration": 0.103057,
     "end_time": "2023-07-29T16:56:13.299159",
     "exception": false,
     "start_time": "2023-07-29T16:56:13.196102",
     "status": "completed"
    },
    "tags": []
   },
   "outputs": [],
   "source": [
    "atpc_tr = df1[df1.Year == 2019].sort_values('Air transport, passengers carried', ascending=False).drop(index=[8045,4124,4847,2936,7789,1959,2297,5476,2348,4218,3872,4800,6707,6911])\n",
    "\n",
    "atpchd = atpc_tr.reset_index().drop(['index','Code'], axis=1).head(20)\n",
    "\n",
    "atpctl = atpc_tr.reset_index().drop(['index','Code'], axis=1).tail(20).sort_values('Air transport, passengers carried', ascending=True)\n",
    "\n",
    "atpcre = df1.loc[[1959,2297,5476,2348,3872,4800,6707,6911]].reset_index().drop(['index','Code'], axis=1)\n",
    "\n",
    "atpcwd = df1[df1.Entity == 'World'].sort_values('Year').reset_index().drop(['index','Code'],axis=1)\n",
    "\n",
    "atpcdf_tr = df1.pivot_table(values = 'Air transport, passengers carried',index = ['Entity'], columns = 'Year')\n",
    "\n",
    "atpcrac = atpcdf_tr.drop(index=['East Asia and Pacific', 'Europe and Central Asia', 'European Union', 'High income', 'Latin America and Caribbean', 'Low and middle income', 'Low income', 'Lower middle income', 'Middle East and North Africa', 'Middle income', 'North America', 'South Asia', 'Sub-Saharan Africa', 'Upper middle income', 'World'])\n",
    "\n",
    "atpcrac.fillna(0, inplace=True)\n",
    "atpcrac.sort_values(list(atpcrac.columns),inplace=True)\n",
    "atpcrac = atpcrac.sort_index()"
   ]
  },
  {
   "cell_type": "code",
   "execution_count": null,
   "id": "a5705c33",
   "metadata": {
    "_kg_hide-input": true,
    "execution": {
     "iopub.execute_input": "2023-07-29T16:56:13.328846Z",
     "iopub.status.busy": "2023-07-29T16:56:13.327963Z",
     "iopub.status.idle": "2023-07-29T16:56:13.376176Z",
     "shell.execute_reply": "2023-07-29T16:56:13.375158Z"
    },
    "papermill": {
     "duration": 0.066242,
     "end_time": "2023-07-29T16:56:13.378999",
     "exception": false,
     "start_time": "2023-07-29T16:56:13.312757",
     "status": "completed"
    },
    "tags": []
   },
   "outputs": [],
   "source": [
    "itnoa_tr = df7[df7.Year == 2019].drop(index=[1328,1518,1543,1953,2463,2625,2644,2669,2972,2997,3394,4203,4306,4834,4984])\n",
    "\n",
    "itnoahd = itnoa_tr.sort_values('International tourism, number of arrivals', ascending=False).reset_index().drop(['index','Code'], axis=1).head(20)\n",
    "\n",
    "itnoatl = itnoa_tr.sort_values('International tourism, number of arrivals', ascending=False).reset_index().drop(['index','Code'], axis=1).tail(20).sort_values('International tourism, number of arrivals', ascending=True)\n",
    "\n",
    "itnoare = df7.loc[[1328,1518,1543,2463,2972,3394,4203,4306]].reset_index().drop(['index', 'Code'], axis=1)\n",
    "\n",
    "itnoawd = df7[df7.Entity == 'World'].reset_index().drop(['index','Code'], axis=1)\n",
    "\n",
    "itnoadf_tr = df7.pivot_table(values = 'International tourism, number of arrivals',index = ['Entity'], columns = 'Year')\n",
    "\n",
    "itnoarac = itnoadf_tr.drop(index=['East Asia and Pacific', 'Europe and Central Asia', 'European Union', 'High income', 'Latin America and Caribbean', 'Low and middle income', 'Low income', 'Lower middle income', 'Middle East and North Africa', 'Middle income', 'North America', 'South Asia', 'Sub-Saharan Africa', 'Upper middle income', 'World'])\n",
    "\n",
    "itnoarac.fillna(0, inplace=True)\n",
    "itnoarac.sort_values(list(itnoarac.columns),inplace=True)\n",
    "itnoarac = itnoarac.sort_index()"
   ]
  },
  {
   "cell_type": "code",
   "execution_count": null,
   "id": "937b3b76",
   "metadata": {
    "_kg_hide-input": true,
    "execution": {
     "iopub.execute_input": "2023-07-29T16:56:13.410013Z",
     "iopub.status.busy": "2023-07-29T16:56:13.409141Z",
     "iopub.status.idle": "2023-07-29T16:56:13.420103Z",
     "shell.execute_reply": "2023-07-29T16:56:13.418762Z"
    },
    "papermill": {
     "duration": 0.028973,
     "end_time": "2023-07-29T16:56:13.422978",
     "exception": false,
     "start_time": "2023-07-29T16:56:13.394005",
     "status": "completed"
    },
    "tags": []
   },
   "outputs": [],
   "source": [
    "mppfwd = df2.drop('Code', axis=1)\n",
    "\n",
    "hifacawd = df3.drop('Code', axis=1)\n",
    "\n",
    "fapmcfwd = df4.drop('Code', axis=1)\n",
    "\n",
    "hfffcawd = df5.drop('Code', axis=1)\n",
    "\n",
    "itare = df6.drop('Code', axis=1)"
   ]
  },
  {
   "cell_type": "markdown",
   "id": "de3538ea",
   "metadata": {
    "papermill": {
     "duration": 0.013038,
     "end_time": "2023-07-29T16:56:13.449553",
     "exception": false,
     "start_time": "2023-07-29T16:56:13.436515",
     "status": "completed"
    },
    "tags": []
   },
   "source": [
    "# Визуализация данных"
   ]
  },
  {
   "cell_type": "code",
   "execution_count": null,
   "id": "c1afcac5",
   "metadata": {
    "_kg_hide-input": true,
    "execution": {
     "iopub.execute_input": "2023-07-29T16:56:13.478567Z",
     "iopub.status.busy": "2023-07-29T16:56:13.478045Z",
     "iopub.status.idle": "2023-07-29T16:56:13.488403Z",
     "shell.execute_reply": "2023-07-29T16:56:13.486947Z"
    },
    "papermill": {
     "duration": 0.028033,
     "end_time": "2023-07-29T16:56:13.491066",
     "exception": false,
     "start_time": "2023-07-29T16:56:13.463033",
     "status": "completed"
    },
    "tags": []
   },
   "outputs": [],
   "source": [
    "HTML('''<div class=\"flourish-embed flourish-bar-chart-race\" data-src=\"visualisation/13199250\"><script src=\"https://public.flourish.studio/resources/embed.js\"></script></div>''')"
   ]
  },
  {
   "cell_type": "code",
   "execution_count": null,
   "id": "5fadc68a",
   "metadata": {
    "_kg_hide-input": true,
    "execution": {
     "iopub.execute_input": "2023-07-29T16:56:13.520419Z",
     "iopub.status.busy": "2023-07-29T16:56:13.519941Z",
     "iopub.status.idle": "2023-07-29T16:56:14.086263Z",
     "shell.execute_reply": "2023-07-29T16:56:14.085076Z"
    },
    "papermill": {
     "duration": 0.58415,
     "end_time": "2023-07-29T16:56:14.089031",
     "exception": false,
     "start_time": "2023-07-29T16:56:13.504881",
     "status": "completed"
    },
    "tags": []
   },
   "outputs": [],
   "source": [
    "sns.barplot(x='Entity', y='Air transport, passengers carried', data=atpchd)\n",
    "\n",
    "plt.xlabel('Countries', fontsize=16)\n",
    "plt.ylabel('Passengers Carried', fontsize=16)\n",
    "plt.xticks(rotation=90)\n",
    "plt.title('Air Transport, Passengers Carried [TOP 20 COUNTRIES]', fontsize=20)\n",
    "\n",
    "plt.show();"
   ]
  },
  {
   "cell_type": "code",
   "execution_count": null,
   "id": "7caa1e3d",
   "metadata": {
    "_kg_hide-input": true,
    "execution": {
     "iopub.execute_input": "2023-07-29T16:56:14.121075Z",
     "iopub.status.busy": "2023-07-29T16:56:14.120221Z",
     "iopub.status.idle": "2023-07-29T16:56:14.146998Z",
     "shell.execute_reply": "2023-07-29T16:56:14.145909Z"
    },
    "papermill": {
     "duration": 0.046224,
     "end_time": "2023-07-29T16:56:14.150240",
     "exception": false,
     "start_time": "2023-07-29T16:56:14.104016",
     "status": "completed"
    },
    "tags": []
   },
   "outputs": [],
   "source": [
    "atpchd"
   ]
  },
  {
   "cell_type": "code",
   "execution_count": null,
   "id": "a0189534",
   "metadata": {
    "_kg_hide-input": true,
    "execution": {
     "iopub.execute_input": "2023-07-29T16:56:14.183230Z",
     "iopub.status.busy": "2023-07-29T16:56:14.182284Z",
     "iopub.status.idle": "2023-07-29T16:56:14.655111Z",
     "shell.execute_reply": "2023-07-29T16:56:14.653726Z"
    },
    "papermill": {
     "duration": 0.492869,
     "end_time": "2023-07-29T16:56:14.658409",
     "exception": false,
     "start_time": "2023-07-29T16:56:14.165540",
     "status": "completed"
    },
    "tags": []
   },
   "outputs": [],
   "source": [
    "plt.plot(atpctl['Entity'], atpctl['Air transport, passengers carried'], 'o-b', lw=3, ms=10)\n",
    "\n",
    "plt.xlabel('Countries', fontsize=16)\n",
    "plt.ylabel('Passengers Carried', fontsize=16)\n",
    "plt.xticks(rotation=90)\n",
    "plt.title('Air Transport, Passengers Carried [BOTTOM 20 COUNTRIES]', fontsize=20)\n",
    "\n",
    "plt.show();"
   ]
  },
  {
   "cell_type": "code",
   "execution_count": null,
   "id": "92de939f",
   "metadata": {
    "_kg_hide-input": true,
    "execution": {
     "iopub.execute_input": "2023-07-29T16:56:14.694814Z",
     "iopub.status.busy": "2023-07-29T16:56:14.694324Z",
     "iopub.status.idle": "2023-07-29T16:56:14.708483Z",
     "shell.execute_reply": "2023-07-29T16:56:14.707484Z"
    },
    "papermill": {
     "duration": 0.035548,
     "end_time": "2023-07-29T16:56:14.710839",
     "exception": false,
     "start_time": "2023-07-29T16:56:14.675291",
     "status": "completed"
    },
    "tags": []
   },
   "outputs": [],
   "source": [
    "atpctl"
   ]
  },
  {
   "cell_type": "code",
   "execution_count": null,
   "id": "f70407f4",
   "metadata": {
    "_kg_hide-input": true,
    "execution": {
     "iopub.execute_input": "2023-07-29T16:56:14.748585Z",
     "iopub.status.busy": "2023-07-29T16:56:14.747272Z",
     "iopub.status.idle": "2023-07-29T16:56:16.586944Z",
     "shell.execute_reply": "2023-07-29T16:56:16.585603Z"
    },
    "papermill": {
     "duration": 1.860687,
     "end_time": "2023-07-29T16:56:16.589967",
     "exception": false,
     "start_time": "2023-07-29T16:56:14.729280",
     "status": "completed"
    },
    "tags": []
   },
   "outputs": [],
   "source": [
    "atpcrefig = px.pie(atpcre, values='Air transport, passengers carried', names='Entity', title='Air Transport, Passengers Carried [REGION]')\n",
    "\n",
    "atpcrefig.show()"
   ]
  },
  {
   "cell_type": "code",
   "execution_count": null,
   "id": "92355fc9",
   "metadata": {
    "_kg_hide-input": true,
    "execution": {
     "iopub.execute_input": "2023-07-29T16:56:16.627011Z",
     "iopub.status.busy": "2023-07-29T16:56:16.626092Z",
     "iopub.status.idle": "2023-07-29T16:56:16.639985Z",
     "shell.execute_reply": "2023-07-29T16:56:16.638928Z"
    },
    "papermill": {
     "duration": 0.03549,
     "end_time": "2023-07-29T16:56:16.642783",
     "exception": false,
     "start_time": "2023-07-29T16:56:16.607293",
     "status": "completed"
    },
    "tags": []
   },
   "outputs": [],
   "source": [
    "atpcre"
   ]
  },
  {
   "cell_type": "code",
   "execution_count": null,
   "id": "529fdd7a",
   "metadata": {
    "_kg_hide-input": true,
    "execution": {
     "iopub.execute_input": "2023-07-29T16:56:16.680487Z",
     "iopub.status.busy": "2023-07-29T16:56:16.679986Z",
     "iopub.status.idle": "2023-07-29T16:56:17.016997Z",
     "shell.execute_reply": "2023-07-29T16:56:17.015694Z"
    },
    "papermill": {
     "duration": 0.359471,
     "end_time": "2023-07-29T16:56:17.019889",
     "exception": false,
     "start_time": "2023-07-29T16:56:16.660418",
     "status": "completed"
    },
    "tags": []
   },
   "outputs": [],
   "source": [
    "plt.plot(atpcwd['Year'], atpcwd['Air transport, passengers carried'], '-m', lw=3, ms=10)\n",
    "\n",
    "plt.xlabel('Year', fontsize=16)\n",
    "plt.ylabel('Passengers Carried', fontsize=16)\n",
    "plt.title('Air Transport, Passengers Carried [WORLD]', fontsize=20)\n",
    "\n",
    "plt.show();"
   ]
  },
  {
   "cell_type": "code",
   "execution_count": null,
   "id": "4204e411",
   "metadata": {
    "_kg_hide-input": true,
    "execution": {
     "iopub.execute_input": "2023-07-29T16:56:17.059743Z",
     "iopub.status.busy": "2023-07-29T16:56:17.059246Z",
     "iopub.status.idle": "2023-07-29T16:56:17.083542Z",
     "shell.execute_reply": "2023-07-29T16:56:17.082330Z"
    },
    "papermill": {
     "duration": 0.0472,
     "end_time": "2023-07-29T16:56:17.086170",
     "exception": false,
     "start_time": "2023-07-29T16:56:17.038970",
     "status": "completed"
    },
    "tags": []
   },
   "outputs": [],
   "source": [
    "atpcwd"
   ]
  },
  {
   "cell_type": "code",
   "execution_count": null,
   "id": "0fd23e7f",
   "metadata": {
    "_kg_hide-input": true,
    "execution": {
     "iopub.execute_input": "2023-07-29T16:56:17.127191Z",
     "iopub.status.busy": "2023-07-29T16:56:17.126766Z",
     "iopub.status.idle": "2023-07-29T16:56:17.134603Z",
     "shell.execute_reply": "2023-07-29T16:56:17.133451Z"
    },
    "papermill": {
     "duration": 0.031874,
     "end_time": "2023-07-29T16:56:17.137191",
     "exception": false,
     "start_time": "2023-07-29T16:56:17.105317",
     "status": "completed"
    },
    "tags": []
   },
   "outputs": [],
   "source": [
    "HTML('''<div class=\"flourish-embed flourish-bar-chart-race\" data-src=\"visualisation/13199323\"><script src=\"https://public.flourish.studio/resources/embed.js\"></script></div>''')"
   ]
  },
  {
   "cell_type": "code",
   "execution_count": null,
   "id": "eff6cfec",
   "metadata": {
    "_kg_hide-input": true,
    "execution": {
     "iopub.execute_input": "2023-07-29T16:56:17.179367Z",
     "iopub.status.busy": "2023-07-29T16:56:17.178393Z",
     "iopub.status.idle": "2023-07-29T16:56:17.696247Z",
     "shell.execute_reply": "2023-07-29T16:56:17.694930Z"
    },
    "papermill": {
     "duration": 0.542793,
     "end_time": "2023-07-29T16:56:17.699903",
     "exception": false,
     "start_time": "2023-07-29T16:56:17.157110",
     "status": "completed"
    },
    "tags": []
   },
   "outputs": [],
   "source": [
    "sns.barplot(x='Entity', y='International tourism, number of arrivals', data=itnoahd, palette='bright')\n",
    "\n",
    "plt.xlabel('Countries', fontsize=16)\n",
    "plt.ylabel('Number of Arrivals', fontsize=16)\n",
    "plt.xticks(rotation=90)\n",
    "plt.title('International Tourism, Number of Arrivals [TOP 20 COUNTRIES]', fontsize=20)\n",
    "\n",
    "plt.show();"
   ]
  },
  {
   "cell_type": "code",
   "execution_count": null,
   "id": "7e8965f8",
   "metadata": {
    "_kg_hide-input": true,
    "execution": {
     "iopub.execute_input": "2023-07-29T16:56:17.744492Z",
     "iopub.status.busy": "2023-07-29T16:56:17.743218Z",
     "iopub.status.idle": "2023-07-29T16:56:17.759993Z",
     "shell.execute_reply": "2023-07-29T16:56:17.758603Z"
    },
    "papermill": {
     "duration": 0.042622,
     "end_time": "2023-07-29T16:56:17.762757",
     "exception": false,
     "start_time": "2023-07-29T16:56:17.720135",
     "status": "completed"
    },
    "tags": []
   },
   "outputs": [],
   "source": [
    "itnoahd"
   ]
  },
  {
   "cell_type": "code",
   "execution_count": null,
   "id": "1d2263f9",
   "metadata": {
    "_kg_hide-input": true,
    "execution": {
     "iopub.execute_input": "2023-07-29T16:56:17.806480Z",
     "iopub.status.busy": "2023-07-29T16:56:17.805255Z",
     "iopub.status.idle": "2023-07-29T16:56:18.289439Z",
     "shell.execute_reply": "2023-07-29T16:56:18.288132Z"
    },
    "papermill": {
     "duration": 0.511633,
     "end_time": "2023-07-29T16:56:18.294901",
     "exception": false,
     "start_time": "2023-07-29T16:56:17.783268",
     "status": "completed"
    },
    "tags": []
   },
   "outputs": [],
   "source": [
    "plt.plot(itnoatl['Entity'], itnoatl['International tourism, number of arrivals'], 'o--r', lw=3, ms=10)\n",
    "\n",
    "plt.xlabel('Countries', fontsize=16)\n",
    "plt.ylabel('Number of Arrivals', fontsize=16)\n",
    "plt.xticks(rotation=90)\n",
    "plt.title('International Tourism, Number of Arrivals [BOTTOM 20 COUNTRIES]', fontsize=20)\n",
    "\n",
    "plt.show();"
   ]
  },
  {
   "cell_type": "code",
   "execution_count": null,
   "id": "dcdd49b4",
   "metadata": {
    "_kg_hide-input": true,
    "execution": {
     "iopub.execute_input": "2023-07-29T16:56:18.347792Z",
     "iopub.status.busy": "2023-07-29T16:56:18.346607Z",
     "iopub.status.idle": "2023-07-29T16:56:18.363388Z",
     "shell.execute_reply": "2023-07-29T16:56:18.362062Z"
    },
    "papermill": {
     "duration": 0.044279,
     "end_time": "2023-07-29T16:56:18.366421",
     "exception": false,
     "start_time": "2023-07-29T16:56:18.322142",
     "status": "completed"
    },
    "tags": []
   },
   "outputs": [],
   "source": [
    "itnoatl"
   ]
  },
  {
   "cell_type": "code",
   "execution_count": null,
   "id": "7931dc16",
   "metadata": {
    "_kg_hide-input": true,
    "execution": {
     "iopub.execute_input": "2023-07-29T16:56:18.414065Z",
     "iopub.status.busy": "2023-07-29T16:56:18.413359Z",
     "iopub.status.idle": "2023-07-29T16:56:18.475766Z",
     "shell.execute_reply": "2023-07-29T16:56:18.474570Z"
    },
    "papermill": {
     "duration": 0.089559,
     "end_time": "2023-07-29T16:56:18.478612",
     "exception": false,
     "start_time": "2023-07-29T16:56:18.389053",
     "status": "completed"
    },
    "tags": []
   },
   "outputs": [],
   "source": [
    "itnoarefig = px.pie(itnoare, values='International tourism, number of arrivals', names='Entity', title='International Tourism, Number of Arrivals [REGION]')\n",
    "\n",
    "itnoarefig.show()"
   ]
  },
  {
   "cell_type": "code",
   "execution_count": null,
   "id": "4566f83f",
   "metadata": {
    "_kg_hide-input": true,
    "execution": {
     "iopub.execute_input": "2023-07-29T16:56:18.527607Z",
     "iopub.status.busy": "2023-07-29T16:56:18.527058Z",
     "iopub.status.idle": "2023-07-29T16:56:18.541269Z",
     "shell.execute_reply": "2023-07-29T16:56:18.539981Z"
    },
    "papermill": {
     "duration": 0.042207,
     "end_time": "2023-07-29T16:56:18.544104",
     "exception": false,
     "start_time": "2023-07-29T16:56:18.501897",
     "status": "completed"
    },
    "tags": []
   },
   "outputs": [],
   "source": [
    "itnoare"
   ]
  },
  {
   "cell_type": "code",
   "execution_count": null,
   "id": "b25d578e",
   "metadata": {
    "_kg_hide-input": true,
    "execution": {
     "iopub.execute_input": "2023-07-29T16:56:18.592522Z",
     "iopub.status.busy": "2023-07-29T16:56:18.592039Z",
     "iopub.status.idle": "2023-07-29T16:56:19.170968Z",
     "shell.execute_reply": "2023-07-29T16:56:19.169690Z"
    },
    "papermill": {
     "duration": 0.607121,
     "end_time": "2023-07-29T16:56:19.174454",
     "exception": false,
     "start_time": "2023-07-29T16:56:18.567333",
     "status": "completed"
    },
    "tags": []
   },
   "outputs": [],
   "source": [
    "sns.barplot(x='Year', y='International tourism, number of arrivals', data=itnoawd, palette='dark')\n",
    "\n",
    "plt.xlabel('Year', fontsize=16)\n",
    "plt.ylabel('Number of Arrivals', fontsize=16)\n",
    "plt.xticks(rotation=90)\n",
    "plt.title('International Tourism, Number of Arrivals [WORLD]', fontsize=20)\n",
    "\n",
    "plt.show();"
   ]
  },
  {
   "cell_type": "code",
   "execution_count": null,
   "id": "fd8e9e4d",
   "metadata": {
    "_kg_hide-input": true,
    "execution": {
     "iopub.execute_input": "2023-07-29T16:56:19.225988Z",
     "iopub.status.busy": "2023-07-29T16:56:19.225552Z",
     "iopub.status.idle": "2023-07-29T16:56:19.244129Z",
     "shell.execute_reply": "2023-07-29T16:56:19.242778Z"
    },
    "papermill": {
     "duration": 0.047762,
     "end_time": "2023-07-29T16:56:19.246831",
     "exception": false,
     "start_time": "2023-07-29T16:56:19.199069",
     "status": "completed"
    },
    "tags": []
   },
   "outputs": [],
   "source": [
    "itnoawd"
   ]
  },
  {
   "cell_type": "code",
   "execution_count": null,
   "id": "baa36a2c",
   "metadata": {
    "_kg_hide-input": true,
    "execution": {
     "iopub.execute_input": "2023-07-29T16:56:19.298432Z",
     "iopub.status.busy": "2023-07-29T16:56:19.297179Z",
     "iopub.status.idle": "2023-07-29T16:56:19.627009Z",
     "shell.execute_reply": "2023-07-29T16:56:19.625691Z"
    },
    "papermill": {
     "duration": 0.358532,
     "end_time": "2023-07-29T16:56:19.629996",
     "exception": false,
     "start_time": "2023-07-29T16:56:19.271464",
     "status": "completed"
    },
    "tags": []
   },
   "outputs": [],
   "source": [
    "plt.plot(mppfwd['Year'], mppfwd['Million passengers per fatality'], '--g', lw=3, ms=10)\n",
    "\n",
    "plt.xlabel('Year', fontsize=16)\n",
    "plt.ylabel('Million Passengers Per Fatality', fontsize=16)\n",
    "plt.title('Million Passengers Per Fatality [WORLD]', fontsize=20)\n",
    "\n",
    "plt.show();"
   ]
  },
  {
   "cell_type": "code",
   "execution_count": null,
   "id": "c1bd0f2d",
   "metadata": {
    "_kg_hide-input": true,
    "execution": {
     "iopub.execute_input": "2023-07-29T16:56:19.684179Z",
     "iopub.status.busy": "2023-07-29T16:56:19.683083Z",
     "iopub.status.idle": "2023-07-29T16:56:19.703479Z",
     "shell.execute_reply": "2023-07-29T16:56:19.702529Z"
    },
    "papermill": {
     "duration": 0.051421,
     "end_time": "2023-07-29T16:56:19.707155",
     "exception": false,
     "start_time": "2023-07-29T16:56:19.655734",
     "status": "completed"
    },
    "tags": []
   },
   "outputs": [],
   "source": [
    "mppfwd"
   ]
  },
  {
   "cell_type": "code",
   "execution_count": null,
   "id": "2e3e3068",
   "metadata": {
    "_kg_hide-input": true,
    "execution": {
     "iopub.execute_input": "2023-07-29T16:56:19.764124Z",
     "iopub.status.busy": "2023-07-29T16:56:19.763283Z",
     "iopub.status.idle": "2023-07-29T16:56:20.117684Z",
     "shell.execute_reply": "2023-07-29T16:56:20.116364Z"
    },
    "papermill": {
     "duration": 0.387695,
     "end_time": "2023-07-29T16:56:20.120759",
     "exception": false,
     "start_time": "2023-07-29T16:56:19.733064",
     "status": "completed"
    },
    "tags": []
   },
   "outputs": [],
   "source": [
    "plt.plot(hifacawd['Year'], hifacawd['Hijacking incidents'], '-r', lw=2, ms=10)\n",
    "\n",
    "plt.xlabel('Year', fontsize=16)\n",
    "plt.ylabel('Hijacking Incidents', fontsize=16)\n",
    "plt.title('Hijacking Incidents Over Time [WORLD]', fontsize=20)\n",
    "\n",
    "plt.show();"
   ]
  },
  {
   "cell_type": "code",
   "execution_count": null,
   "id": "8954b7da",
   "metadata": {
    "_kg_hide-input": true,
    "execution": {
     "iopub.execute_input": "2023-07-29T16:56:20.177689Z",
     "iopub.status.busy": "2023-07-29T16:56:20.176381Z",
     "iopub.status.idle": "2023-07-29T16:56:20.208163Z",
     "shell.execute_reply": "2023-07-29T16:56:20.206905Z"
    },
    "papermill": {
     "duration": 0.062944,
     "end_time": "2023-07-29T16:56:20.211088",
     "exception": false,
     "start_time": "2023-07-29T16:56:20.148144",
     "status": "completed"
    },
    "tags": []
   },
   "outputs": [],
   "source": [
    "hifacawd"
   ]
  },
  {
   "cell_type": "code",
   "execution_count": null,
   "id": "ac4198df",
   "metadata": {
    "_kg_hide-input": true,
    "execution": {
     "iopub.execute_input": "2023-07-29T16:56:20.269936Z",
     "iopub.status.busy": "2023-07-29T16:56:20.268621Z",
     "iopub.status.idle": "2023-07-29T16:56:20.625515Z",
     "shell.execute_reply": "2023-07-29T16:56:20.624077Z"
    },
    "papermill": {
     "duration": 0.390332,
     "end_time": "2023-07-29T16:56:20.629211",
     "exception": false,
     "start_time": "2023-07-29T16:56:20.238879",
     "status": "completed"
    },
    "tags": []
   },
   "outputs": [],
   "source": [
    "plt.plot(hifacawd['Year'], hifacawd['Fatal accidents from commercial airliners'], '-m', lw=2, ms=10)\n",
    "\n",
    "plt.xlabel('Year', fontsize=16)\n",
    "plt.ylabel('Fatal Accidents', fontsize=16)\n",
    "plt.title('Fatal Accidents from Commercial Airliners [WORLD]', fontsize=20)\n",
    "\n",
    "plt.show();"
   ]
  },
  {
   "cell_type": "code",
   "execution_count": null,
   "id": "e8f61656",
   "metadata": {
    "_kg_hide-input": true,
    "execution": {
     "iopub.execute_input": "2023-07-29T16:56:20.691013Z",
     "iopub.status.busy": "2023-07-29T16:56:20.688772Z",
     "iopub.status.idle": "2023-07-29T16:56:22.413240Z",
     "shell.execute_reply": "2023-07-29T16:56:22.411750Z"
    },
    "papermill": {
     "duration": 1.758206,
     "end_time": "2023-07-29T16:56:22.416388",
     "exception": false,
     "start_time": "2023-07-29T16:56:20.658182",
     "status": "completed"
    },
    "tags": []
   },
   "outputs": [],
   "source": [
    "sns.barplot(x='Year', y='Fatal accidents per million commercial flights', data=fapmcfwd, palette='colorblind')\n",
    "\n",
    "plt.xlabel('Year', fontsize=16)\n",
    "plt.ylabel('Fatal Accidents', fontsize=16)\n",
    "plt.xticks(rotation=90)\n",
    "plt.title('Fatal Accidents Per Million Commercial Flights [WORLD]', fontsize=20)\n",
    "\n",
    "plt.show();"
   ]
  },
  {
   "cell_type": "code",
   "execution_count": null,
   "id": "c2d1e9c8",
   "metadata": {
    "_kg_hide-input": true,
    "execution": {
     "iopub.execute_input": "2023-07-29T16:56:22.479033Z",
     "iopub.status.busy": "2023-07-29T16:56:22.478009Z",
     "iopub.status.idle": "2023-07-29T16:56:22.497039Z",
     "shell.execute_reply": "2023-07-29T16:56:22.495736Z"
    },
    "papermill": {
     "duration": 0.054269,
     "end_time": "2023-07-29T16:56:22.500588",
     "exception": false,
     "start_time": "2023-07-29T16:56:22.446319",
     "status": "completed"
    },
    "tags": []
   },
   "outputs": [],
   "source": [
    "fapmcfwd"
   ]
  },
  {
   "cell_type": "code",
   "execution_count": null,
   "id": "0ce7ff74",
   "metadata": {
    "_kg_hide-input": true,
    "execution": {
     "iopub.execute_input": "2023-07-29T16:56:22.564172Z",
     "iopub.status.busy": "2023-07-29T16:56:22.563749Z",
     "iopub.status.idle": "2023-07-29T16:56:22.951005Z",
     "shell.execute_reply": "2023-07-29T16:56:22.949623Z"
    },
    "papermill": {
     "duration": 0.422415,
     "end_time": "2023-07-29T16:56:22.954168",
     "exception": false,
     "start_time": "2023-07-29T16:56:22.531753",
     "status": "completed"
    },
    "tags": []
   },
   "outputs": [],
   "source": [
    "plt.plot(hfffcawd['Year'], hfffcawd['Hijacking fatalities'], '-g', lw=3, ms=10)\n",
    "\n",
    "plt.xlabel('Year', fontsize=16)\n",
    "plt.ylabel('Hijacking fatalities', fontsize=16)\n",
    "plt.title('Hijacking Fatalities Over Time [WORLD]', fontsize=20)\n",
    "\n",
    "plt.show();"
   ]
  },
  {
   "cell_type": "code",
   "execution_count": null,
   "id": "d36f749f",
   "metadata": {
    "_kg_hide-input": true,
    "execution": {
     "iopub.execute_input": "2023-07-29T16:56:23.021097Z",
     "iopub.status.busy": "2023-07-29T16:56:23.020677Z",
     "iopub.status.idle": "2023-07-29T16:56:23.050889Z",
     "shell.execute_reply": "2023-07-29T16:56:23.049886Z"
    },
    "papermill": {
     "duration": 0.06662,
     "end_time": "2023-07-29T16:56:23.053297",
     "exception": false,
     "start_time": "2023-07-29T16:56:22.986677",
     "status": "completed"
    },
    "tags": []
   },
   "outputs": [],
   "source": [
    "hfffcawd"
   ]
  },
  {
   "cell_type": "code",
   "execution_count": null,
   "id": "047d90e3",
   "metadata": {
    "_kg_hide-input": true,
    "execution": {
     "iopub.execute_input": "2023-07-29T16:56:23.120239Z",
     "iopub.status.busy": "2023-07-29T16:56:23.119359Z",
     "iopub.status.idle": "2023-07-29T16:56:23.646527Z",
     "shell.execute_reply": "2023-07-29T16:56:23.645507Z"
    },
    "papermill": {
     "duration": 0.564256,
     "end_time": "2023-07-29T16:56:23.649965",
     "exception": false,
     "start_time": "2023-07-29T16:56:23.085709",
     "status": "completed"
    },
    "tags": []
   },
   "outputs": [],
   "source": [
    "plt.plot(hfffcawd['Year'], hfffcawd['Fatalities from commercial airliners'], '--b', lw=3, ms=10)\n",
    "\n",
    "plt.xlabel('Year', fontsize=16)\n",
    "plt.ylabel('Fatalities', fontsize=16)\n",
    "plt.title('Fatalities from Commercial Airliners [WORLD]', fontsize=20)\n",
    "\n",
    "plt.show();"
   ]
  },
  {
   "cell_type": "code",
   "execution_count": null,
   "id": "8cf16369",
   "metadata": {
    "_kg_hide-input": true,
    "execution": {
     "iopub.execute_input": "2023-07-29T16:56:23.725071Z",
     "iopub.status.busy": "2023-07-29T16:56:23.724242Z",
     "iopub.status.idle": "2023-07-29T16:56:24.143432Z",
     "shell.execute_reply": "2023-07-29T16:56:24.142135Z"
    },
    "papermill": {
     "duration": 0.458308,
     "end_time": "2023-07-29T16:56:24.146336",
     "exception": false,
     "start_time": "2023-07-29T16:56:23.688028",
     "status": "completed"
    },
    "tags": []
   },
   "outputs": [],
   "source": [
    "itareaf = itare[itare.Entity == 'Africa']\n",
    "itaream = itare[itare.Entity == 'Americas']\n",
    "itareap = itare[itare.Entity == 'Asia & Pacific']\n",
    "itareeu = itare[itare.Entity == 'Europe']\n",
    "itareme = itare[itare.Entity == 'Middle East']\n",
    "\n",
    "plt.plot(itareaf['Year'], itareaf['International Tourist Arrivals'], '-b', lw=3, ms=10)\n",
    "plt.plot(itaream['Year'], itaream['International Tourist Arrivals'], '-g', lw=3, ms=10)\n",
    "plt.plot(itareap['Year'], itareap['International Tourist Arrivals'], '-m', lw=3, ms=10)\n",
    "plt.plot(itareeu['Year'], itareeu['International Tourist Arrivals'], '-r', lw=3, ms=10)\n",
    "plt.plot(itareme['Year'], itareme['International Tourist Arrivals'], '-y', lw=3, ms=10)\n",
    "\n",
    "plt.xlabel('Year', fontsize=16)\n",
    "plt.ylabel('Tourist Arrivals', fontsize=16)\n",
    "plt.title('International Tourist Arrivals [REGION]', fontsize=20)\n",
    "plt.legend(['Africa','Americas','Asia & Pacific','Europe','Middle East'])\n",
    "\n",
    "plt.show();"
   ]
  },
  {
   "cell_type": "code",
   "execution_count": null,
   "id": "de6176be",
   "metadata": {
    "_kg_hide-input": true,
    "execution": {
     "iopub.execute_input": "2023-07-29T16:56:24.219961Z",
     "iopub.status.busy": "2023-07-29T16:56:24.219089Z",
     "iopub.status.idle": "2023-07-29T16:56:24.252703Z",
     "shell.execute_reply": "2023-07-29T16:56:24.251363Z"
    },
    "papermill": {
     "duration": 0.07435,
     "end_time": "2023-07-29T16:56:24.256168",
     "exception": false,
     "start_time": "2023-07-29T16:56:24.181818",
     "status": "completed"
    },
    "tags": []
   },
   "outputs": [],
   "source": [
    "itare"
   ]
  },
  {
   "cell_type": "markdown",
   "id": "149b4944",
   "metadata": {
    "papermill": {
     "duration": 0.036715,
     "end_time": "2023-07-29T16:56:24.330853",
     "exception": false,
     "start_time": "2023-07-29T16:56:24.294138",
     "status": "completed"
    },
    "tags": []
   },
   "source": [
    "# Заключительные замечания"
   ]
  },
  {
   "cell_type": "markdown",
   "id": "b31155fc",
   "metadata": {
    "papermill": {
     "duration": 0.036617,
     "end_time": "2023-07-29T16:56:24.404143",
     "exception": false,
     "start_time": "2023-07-29T16:56:24.367526",
     "status": "completed"
    },
    "tags": []
   },
   "source": [
    "В заключение следует отметить, что туризм и воздушный транспорт тесно связаны между собой и играют важную роль в мировой экономике. Росту международного туризма способствовал воздушный транспорт, однако безопасность авиаперевозок - важнейшая проблема, которую нельзя игнорировать. Показатели международных туристических прибытий, миллионов пассажиров на миллион пассажиров, смертельных случаев на миллион пассажиров, инцидентов с угоном самолетов, аварий со смертельным исходом и смертельных случаев дают представление о безопасности воздушного транспорта. Авиационная отрасль добилась значительных успехов в повышении стандартов безопасности, но она должна продолжать уделять приоритетное внимание безопасности, обеспечивая быстрые и эффективные варианты путешествий для туристов. Только благодаря постоянным усилиям, направленным на обеспечение безопасности авиаперевозок, туристическая отрасль сможет продолжать процветать и вносить свой вклад в мировую экономику."
   ]
  }
 ],
 "metadata": {
  "kernelspec": {
   "display_name": "new_env",
   "language": "python",
   "name": "python3"
  },
  "language_info": {
   "codemirror_mode": {
    "name": "ipython",
    "version": 3
   },
   "file_extension": ".py",
   "mimetype": "text/x-python",
   "name": "python",
   "nbconvert_exporter": "python",
   "pygments_lexer": "ipython3",
   "version": "3.9.13"
  },
  "papermill": {
   "default_parameters": {},
   "duration": 29.299305,
   "end_time": "2023-07-29T16:56:25.365558",
   "environment_variables": {},
   "exception": null,
   "input_path": "__notebook__.ipynb",
   "output_path": "__notebook__.ipynb",
   "parameters": {},
   "start_time": "2023-07-29T16:55:56.066253",
   "version": "2.4.0"
  }
 },
 "nbformat": 4,
 "nbformat_minor": 5
}

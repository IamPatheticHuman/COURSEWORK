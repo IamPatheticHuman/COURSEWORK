{
 "cells": [
  {
   "cell_type": "code",
   "execution_count": null,
   "metadata": {},
   "outputs": [],
   "source": [
    "import pandas as pd\n",
    "import matplotlib.pyplot as plt\n",
    "from statsmodels.tsa.arima.model import ARIMA\n",
    "\n",
    "df = pd.read_csv('global-fatalities-from-aviation-accidents-and-hijackings.csv')\n"
   ]
  },
  {
   "cell_type": "code",
   "execution_count": null,
   "metadata": {},
   "outputs": [],
   "source": [
    "def preprocess(df, year_col, value_cols):\n",
    "    df = df.dropna(subset=[year_col] + value_cols)\n",
    "    df = df.drop_duplicates()\n",
    "    df[year_col] = pd.to_datetime(df[year_col], format='%Y', errors='coerce').dt.year\n",
    "    df = df.dropna(subset=[year_col])\n",
    "    df['Total Fatalities'] = df[value_cols].sum(axis=1)\n",
    "    df = df[df['Total Fatalities'] > 0]\n",
    "    df = df.groupby(year_col)['Total Fatalities'].sum().reset_index()\n",
    "    df.rename(columns={year_col: 'Year', 'Total Fatalities': 'Fatalities'}, inplace=True)\n",
    "    return df\n",
    "\n",
    "cleaned_df = preprocess(df, 'Year', ['Hijacking fatalities', 'Fatalities from commercial airliners'])\n",
    "cleaned_df.head()\n"
   ]
  },
  {
   "cell_type": "code",
   "execution_count": null,
   "metadata": {},
   "outputs": [],
   "source": [
    "worst_year = cleaned_df.loc[cleaned_df['Fatalities'] == cleaned_df['Fatalities'].max(), 'Year'].values[0]\n",
    "worst_value = int(cleaned_df['Fatalities'].max())\n",
    "\n",
    "best_year = cleaned_df.loc[cleaned_df['Fatalities'] == cleaned_df['Fatalities'].min(), 'Year'].values[0]\n",
    "best_value = int(cleaned_df['Fatalities'].min())\n",
    "\n",
    "print(f\"Best Year: {best_year}, Fatalities: {best_value}\")\n",
    "print(f\"Worst Year: {worst_year}, Fatalities: {worst_value}\")\n"
   ]
  },
  {
   "cell_type": "code",
   "execution_count": null,
   "metadata": {},
   "outputs": [],
   "source": [
    "plt.figure(figsize=(14, 7))\n",
    "colors = ['green' if year == best_year else 'red' if year == worst_year else 'gray' for year in cleaned_df['Year']]\n",
    "plt.bar(cleaned_df['Year'], cleaned_df['Fatalities'], color=colors)\n",
    "plt.title('Aviation Fatalities: All Years with Highlighted Best and Worst Years')\n",
    "plt.xlabel('Year')\n",
    "plt.ylabel('Number of Fatalities')\n",
    "plt.axvline(x=best_year, color='green', linestyle='--', label=f'Best Year: {best_year}')\n",
    "plt.axvline(x=worst_year, color='red', linestyle='--', label=f'Worst Year: {worst_year}')\n",
    "plt.legend()\n",
    "plt.grid(axis='y')\n",
    "plt.show()\n"
   ]
  },
  {
   "cell_type": "code",
   "execution_count": null,
   "metadata": {},
   "outputs": [],
   "source": [
    "y = cleaned_df['Fatalities']\n",
    "model = ARIMA(y, order=(1, 1, 1))\n",
    "model_fit = model.fit()\n"
   ]
  },
  {
   "cell_type": "code",
   "execution_count": null,
   "metadata": {},
   "outputs": [],
   "source": [
    "forecast_years = list(range(cleaned_df['Year'].iloc[-1] + 1, 2031))\n",
    "forecast = model_fit.forecast(steps=len(forecast_years))\n",
    "\n",
    "forecast_df = pd.DataFrame({'Year': forecast_years, 'Fatalities': forecast})\n",
    "forecast_df.head()\n"
   ]
  },
  {
   "cell_type": "code",
   "execution_count": null,
   "metadata": {},
   "outputs": [],
   "source": [
    "plt.figure(figsize=(14, 7))\n",
    "plt.bar(forecast_df['Year'], forecast_df['Fatalities'], color='blue', label='Forecast Fatalities')\n",
    "plt.title('Aviation Fatalities Forecast to 2030 (ARIMA Model)')\n",
    "plt.xlabel('Year')\n",
    "plt.ylabel('Predicted Number of Fatalities')\n",
    "plt.legend()\n",
    "plt.grid(axis='y')\n",
    "plt.show()\n"
   ]
  },
  {
   "cell_type": "code",
   "execution_count": null,
   "metadata": {},
   "outputs": [],
   "source": [
    "print(\"Model Forecast to 2030:\")\n",
    "for i, row in forecast_df.iterrows():\n",
    "    print(f\"Year: {row['Year']}, Predicted Fatalities: {int(row['Fatalities'])}\")\n"
   ]
  }
 ],
 "metadata": {
  "kernelspec": {
   "display_name": "Python 3",
   "language": "python",
   "name": "python3"
  },
  "language_info": {
   "codemirror_mode": {
    "name": "ipython",
    "version": 3
   },
   "file_extension": ".py",
   "mimetype": "text/x-python",
   "name": "python",
   "nbconvert_exporter": "python",
   "pygments_lexer": "ipython3",
   "version": "3.9.13"
  },
  "orig_nbformat": 4
 },
 "nbformat": 4,
 "nbformat_minor": 2
}
